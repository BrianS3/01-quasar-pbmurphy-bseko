{
 "cells": [
  {
   "cell_type": "code",
   "execution_count": 16,
   "source": [
    "import pandas as pd\r\n",
    "import numpy as np\r\n",
    "import mysql\r\n",
    "from mysql.connector import connect, Error\r\n",
    "import plotly.express as px\r\n",
    "import plotly.graph_objects as go\r\n",
    "import kaleido"
   ],
   "outputs": [],
   "metadata": {}
  },
  {
   "cell_type": "code",
   "execution_count": 17,
   "source": [
    "state_names = [\"Alaska\", \"Alabama\", \"Arkansas\", \"Arizona\", \"California\", \"Colorado\", \"Connecticut\", \"District of Columbia\", \"Delaware\", \"Florida\", \"Georgia\", \r\n",
    "               \"Hawaii\", \"Iowa\", \"Idaho\", \"Illinois\", \"Indiana\", \"Kansas\", \"Kentucky\", \"Louisiana\",  \"Maryland\", \"Massachusetts\", \"Maine\", \"Michigan\", \"Minnesota\", \r\n",
    "               \"Missouri\", \"Mississippi\", \"Montana\", \"North Carolina\", \"North Dakota\", \"Nebraska\", \"Nevada\", \"New Hampshire\", \"New Jersey\", \"New Mexico\",  \r\n",
    "               \"New York\", \"Ohio\", \"Oklahoma\", \"Oregon\", \"Pennsylvania\", \"Rhode Island\", \"South Carolina\", \"South Dakota\", \"Tennessee\", \"Texas\", \"Utah\", \"Virginia\", \r\n",
    "               \"Vermont\", \"Washington\", \"Wisconsin\", \"West Virginia\", \"Wyoming\"]\r\n",
    "states = [\"AL\", \"AK\", \"AZ\", \"AR\", \"CA\", \"CO\", \"CT\", \"DE\", \"DC\", \"FL\", \"GA\", \r\n",
    "          \"HI\", \"ID\", \"IL\", \"IN\", \"IA\", \"KS\", \"KY\", \"LA\", \"ME\", \"MD\", \r\n",
    "          \"MA\", \"MI\", \"MN\", \"MS\", \"MO\", \"MT\", \"NE\", \"NV\", \"NH\", \"NJ\", \r\n",
    "          \"NM\", \"NY\", \"NC\", \"ND\", \"OH\", \"OK\", \"OR\", \"PA\", \"RI\", \"SC\", \r\n",
    "          \"SD\", \"TN\", \"TX\", \"UT\", \"VT\", \"VA\", \"WA\", \"WV\", \"WI\", \"WY\"]\r\n",
    "state_names.sort()\r\n",
    "\r\n",
    "sd = dict(zip(state_names, states))\r\n",
    "st = dict(zip(states, state_names))"
   ],
   "outputs": [],
   "metadata": {}
  },
  {
   "cell_type": "code",
   "execution_count": 18,
   "source": [
    "cnx = mysql.connector.connect(user=f'{user}', password=f'{password}',\r\n",
    "                              host=f'{host}', database=f\"{database}\")\r\n",
    "cursor = cnx.cursor()\r\n",
    "query  = \"select * from VW_TWEET_TEXT\"\r\n",
    "tweets = pd.read_sql(query,cnx)\r\n",
    "#users.rename(columns={'TWEET_ID':'ID', 'TWEET_TEXT':'TWEET'}, inplace=True)\r\n",
    "tweets"
   ],
   "outputs": [
    {
     "output_type": "execute_result",
     "data": {
      "text/html": [
       "<div>\n",
       "<style scoped>\n",
       "    .dataframe tbody tr th:only-of-type {\n",
       "        vertical-align: middle;\n",
       "    }\n",
       "\n",
       "    .dataframe tbody tr th {\n",
       "        vertical-align: top;\n",
       "    }\n",
       "\n",
       "    .dataframe thead th {\n",
       "        text-align: right;\n",
       "    }\n",
       "</style>\n",
       "<table border=\"1\" class=\"dataframe\">\n",
       "  <thead>\n",
       "    <tr style=\"text-align: right;\">\n",
       "      <th></th>\n",
       "      <th>TWEET_ID</th>\n",
       "      <th>TWEET_TEXT</th>\n",
       "    </tr>\n",
       "  </thead>\n",
       "  <tbody>\n",
       "    <tr>\n",
       "      <th>0</th>\n",
       "      <td>1189699142190157824</td>\n",
       "      <td>@HopePeace_810 @RepSwalwell @SpeakerPelosi Ukr...</td>\n",
       "    </tr>\n",
       "    <tr>\n",
       "      <th>1</th>\n",
       "      <td>1189756083771977728</td>\n",
       "      <td>DOJ Clears Trump of Wrongdoing in Call with Ze...</td>\n",
       "    </tr>\n",
       "    <tr>\n",
       "      <th>2</th>\n",
       "      <td>1189766623055486977</td>\n",
       "      <td>DOJ Clears Trump of Wrongdoing in Call with Ze...</td>\n",
       "    </tr>\n",
       "    <tr>\n",
       "      <th>3</th>\n",
       "      <td>1189771973229993985</td>\n",
       "      <td>@HelenSpade4 @luke_mo_ @TroyBurch3 @DV652 @Rep...</td>\n",
       "    </tr>\n",
       "    <tr>\n",
       "      <th>4</th>\n",
       "      <td>1189772566489128966</td>\n",
       "      <td>@HelenSpade4 @luke_mo_ @TroyBurch3 @DV652 @Rep...</td>\n",
       "    </tr>\n",
       "    <tr>\n",
       "      <th>...</th>\n",
       "      <td>...</td>\n",
       "      <td>...</td>\n",
       "    </tr>\n",
       "    <tr>\n",
       "      <th>10834</th>\n",
       "      <td>796140241950306304</td>\n",
       "      <td>Vote Hillary Clinton idc if she a liar y'all b...</td>\n",
       "    </tr>\n",
       "    <tr>\n",
       "      <th>10835</th>\n",
       "      <td>796140242008965122</td>\n",
       "      <td>if Hilary wins the election she's gonna have t...</td>\n",
       "    </tr>\n",
       "    <tr>\n",
       "      <th>10836</th>\n",
       "      <td>796140242092879873</td>\n",
       "      <td>Donald Trump defiende la tenencia de armas en ...</td>\n",
       "    </tr>\n",
       "    <tr>\n",
       "      <th>10837</th>\n",
       "      <td>796140242256490497</td>\n",
       "      <td>Police respond to shooting near Los Angeles-ar...</td>\n",
       "    </tr>\n",
       "    <tr>\n",
       "      <th>10838</th>\n",
       "      <td>796140242273271810</td>\n",
       "      <td>Please take a moment to reflect on everything ...</td>\n",
       "    </tr>\n",
       "  </tbody>\n",
       "</table>\n",
       "<p>10839 rows × 2 columns</p>\n",
       "</div>"
      ],
      "text/plain": [
       "                  TWEET_ID                                         TWEET_TEXT\n",
       "0      1189699142190157824  @HopePeace_810 @RepSwalwell @SpeakerPelosi Ukr...\n",
       "1      1189756083771977728  DOJ Clears Trump of Wrongdoing in Call with Ze...\n",
       "2      1189766623055486977  DOJ Clears Trump of Wrongdoing in Call with Ze...\n",
       "3      1189771973229993985  @HelenSpade4 @luke_mo_ @TroyBurch3 @DV652 @Rep...\n",
       "4      1189772566489128966  @HelenSpade4 @luke_mo_ @TroyBurch3 @DV652 @Rep...\n",
       "...                    ...                                                ...\n",
       "10834   796140241950306304  Vote Hillary Clinton idc if she a liar y'all b...\n",
       "10835   796140242008965122  if Hilary wins the election she's gonna have t...\n",
       "10836   796140242092879873  Donald Trump defiende la tenencia de armas en ...\n",
       "10837   796140242256490497  Police respond to shooting near Los Angeles-ar...\n",
       "10838   796140242273271810  Please take a moment to reflect on everything ...\n",
       "\n",
       "[10839 rows x 2 columns]"
      ]
     },
     "metadata": {},
     "execution_count": 18
    }
   ],
   "metadata": {}
  },
  {
   "cell_type": "code",
   "execution_count": 19,
   "source": [
    "query  = \"SELECT * FROM USERS\"\r\n",
    "users = pd.read_sql(query,cnx)"
   ],
   "outputs": [],
   "metadata": {}
  },
  {
   "cell_type": "code",
   "execution_count": null,
   "source": [],
   "outputs": [],
   "metadata": {}
  },
  {
   "cell_type": "code",
   "execution_count": 20,
   "source": [
    "users"
   ],
   "outputs": [
    {
     "output_type": "execute_result",
     "data": {
      "text/html": [
       "<div>\n",
       "<style scoped>\n",
       "    .dataframe tbody tr th:only-of-type {\n",
       "        vertical-align: middle;\n",
       "    }\n",
       "\n",
       "    .dataframe tbody tr th {\n",
       "        vertical-align: top;\n",
       "    }\n",
       "\n",
       "    .dataframe thead th {\n",
       "        text-align: right;\n",
       "    }\n",
       "</style>\n",
       "<table border=\"1\" class=\"dataframe\">\n",
       "  <thead>\n",
       "    <tr style=\"text-align: right;\">\n",
       "      <th></th>\n",
       "      <th>AUTHOR_ID</th>\n",
       "      <th>CREATED_AT</th>\n",
       "      <th>LOCATION</th>\n",
       "      <th>DESCRIPTION</th>\n",
       "      <th>FOLLOWERS_COUNT</th>\n",
       "      <th>FOLLOWING_COUNT</th>\n",
       "      <th>LISTED_COUNT</th>\n",
       "      <th>TWEET_COUNT</th>\n",
       "      <th>VERIFIED</th>\n",
       "    </tr>\n",
       "  </thead>\n",
       "  <tbody>\n",
       "    <tr>\n",
       "      <th>0</th>\n",
       "      <td>1000004748177805312</td>\n",
       "      <td>2018-05-25</td>\n",
       "      <td>Rio de Janeiro</td>\n",
       "      <td>Conservadora. Mestre em Direito e Economia. Em...</td>\n",
       "      <td>169325</td>\n",
       "      <td>107105</td>\n",
       "      <td>140</td>\n",
       "      <td>5954</td>\n",
       "      <td>False</td>\n",
       "    </tr>\n",
       "    <tr>\n",
       "      <th>1</th>\n",
       "      <td>1000027957</td>\n",
       "      <td>2012-12-09</td>\n",
       "      <td>nan</td>\n",
       "      <td>Comentadores de bancada, políticos profissiona...</td>\n",
       "      <td>214</td>\n",
       "      <td>16</td>\n",
       "      <td>9</td>\n",
       "      <td>14741</td>\n",
       "      <td>False</td>\n",
       "    </tr>\n",
       "    <tr>\n",
       "      <th>2</th>\n",
       "      <td>1000256803</td>\n",
       "      <td>2012-12-09</td>\n",
       "      <td>Italy</td>\n",
       "      <td>Pak-Italian</td>\n",
       "      <td>839</td>\n",
       "      <td>1784</td>\n",
       "      <td>0</td>\n",
       "      <td>14459</td>\n",
       "      <td>False</td>\n",
       "    </tr>\n",
       "    <tr>\n",
       "      <th>3</th>\n",
       "      <td>10003742</td>\n",
       "      <td>2007-11-06</td>\n",
       "      <td>New York, NY</td>\n",
       "      <td>Anchor / Sr. Correspondent PBS @NewsHour &amp; @Sc...</td>\n",
       "      <td>32362</td>\n",
       "      <td>1632</td>\n",
       "      <td>1002</td>\n",
       "      <td>21815</td>\n",
       "      <td>True</td>\n",
       "    </tr>\n",
       "    <tr>\n",
       "      <th>4</th>\n",
       "      <td>100077645</td>\n",
       "      <td>2009-12-28</td>\n",
       "      <td>Los Angeles, California</td>\n",
       "      <td>All Your Favorite Entertainment News, Pop-Cult...</td>\n",
       "      <td>504344</td>\n",
       "      <td>13462</td>\n",
       "      <td>1539</td>\n",
       "      <td>62184</td>\n",
       "      <td>True</td>\n",
       "    </tr>\n",
       "    <tr>\n",
       "      <th>...</th>\n",
       "      <td>...</td>\n",
       "      <td>...</td>\n",
       "      <td>...</td>\n",
       "      <td>...</td>\n",
       "      <td>...</td>\n",
       "      <td>...</td>\n",
       "      <td>...</td>\n",
       "      <td>...</td>\n",
       "      <td>...</td>\n",
       "    </tr>\n",
       "    <tr>\n",
       "      <th>14207</th>\n",
       "      <td>999442590821826560</td>\n",
       "      <td>2018-05-24</td>\n",
       "      <td>USA</td>\n",
       "      <td>#TeamJustice. I cuss. I rant. I love all anima...</td>\n",
       "      <td>2015</td>\n",
       "      <td>3566</td>\n",
       "      <td>2</td>\n",
       "      <td>45241</td>\n",
       "      <td>False</td>\n",
       "    </tr>\n",
       "    <tr>\n",
       "      <th>14208</th>\n",
       "      <td>99963885</td>\n",
       "      <td>2009-12-28</td>\n",
       "      <td>Houston, TX</td>\n",
       "      <td>Tweets are my own and should never be taken se...</td>\n",
       "      <td>232</td>\n",
       "      <td>514</td>\n",
       "      <td>0</td>\n",
       "      <td>11120</td>\n",
       "      <td>False</td>\n",
       "    </tr>\n",
       "    <tr>\n",
       "      <th>14209</th>\n",
       "      <td>99973010</td>\n",
       "      <td>2009-12-28</td>\n",
       "      <td>Porto Recanati, Marche</td>\n",
       "      <td>Artigiano. Ho solo oggetti fatti da me, 100% m...</td>\n",
       "      <td>252</td>\n",
       "      <td>119</td>\n",
       "      <td>6</td>\n",
       "      <td>13374</td>\n",
       "      <td>False</td>\n",
       "    </tr>\n",
       "    <tr>\n",
       "      <th>14210</th>\n",
       "      <td>999771618</td>\n",
       "      <td>2012-12-09</td>\n",
       "      <td>Latinoamérica</td>\n",
       "      <td>Los trabajadores no tienen nada que perder, sa...</td>\n",
       "      <td>2720</td>\n",
       "      <td>2788</td>\n",
       "      <td>0</td>\n",
       "      <td>219260</td>\n",
       "      <td>False</td>\n",
       "    </tr>\n",
       "    <tr>\n",
       "      <th>14211</th>\n",
       "      <td>99993327</td>\n",
       "      <td>2009-12-28</td>\n",
       "      <td>Tomé, Chile</td>\n",
       "      <td>Siempre es hoy</td>\n",
       "      <td>295</td>\n",
       "      <td>319</td>\n",
       "      <td>0</td>\n",
       "      <td>10177</td>\n",
       "      <td>False</td>\n",
       "    </tr>\n",
       "  </tbody>\n",
       "</table>\n",
       "<p>14212 rows × 9 columns</p>\n",
       "</div>"
      ],
      "text/plain": [
       "                 AUTHOR_ID  CREATED_AT                 LOCATION  \\\n",
       "0      1000004748177805312  2018-05-25           Rio de Janeiro   \n",
       "1               1000027957  2012-12-09                      nan   \n",
       "2               1000256803  2012-12-09                    Italy   \n",
       "3                 10003742  2007-11-06             New York, NY   \n",
       "4                100077645  2009-12-28  Los Angeles, California   \n",
       "...                    ...         ...                      ...   \n",
       "14207   999442590821826560  2018-05-24                      USA   \n",
       "14208             99963885  2009-12-28              Houston, TX   \n",
       "14209             99973010  2009-12-28   Porto Recanati, Marche   \n",
       "14210            999771618  2012-12-09            Latinoamérica   \n",
       "14211             99993327  2009-12-28              Tomé, Chile   \n",
       "\n",
       "                                             DESCRIPTION  FOLLOWERS_COUNT  \\\n",
       "0      Conservadora. Mestre em Direito e Economia. Em...           169325   \n",
       "1      Comentadores de bancada, políticos profissiona...              214   \n",
       "2                                           Pak-Italian               839   \n",
       "3      Anchor / Sr. Correspondent PBS @NewsHour & @Sc...            32362   \n",
       "4      All Your Favorite Entertainment News, Pop-Cult...           504344   \n",
       "...                                                  ...              ...   \n",
       "14207  #TeamJustice. I cuss. I rant. I love all anima...             2015   \n",
       "14208  Tweets are my own and should never be taken se...              232   \n",
       "14209  Artigiano. Ho solo oggetti fatti da me, 100% m...              252   \n",
       "14210  Los trabajadores no tienen nada que perder, sa...             2720   \n",
       "14211                                    Siempre es hoy               295   \n",
       "\n",
       "       FOLLOWING_COUNT  LISTED_COUNT  TWEET_COUNT VERIFIED  \n",
       "0               107105           140         5954    False  \n",
       "1                   16             9        14741    False  \n",
       "2                 1784             0        14459    False  \n",
       "3                 1632          1002        21815     True  \n",
       "4                13462          1539        62184     True  \n",
       "...                ...           ...          ...      ...  \n",
       "14207             3566             2        45241    False  \n",
       "14208              514             0        11120    False  \n",
       "14209              119             6        13374    False  \n",
       "14210             2788             0       219260    False  \n",
       "14211              319             0        10177    False  \n",
       "\n",
       "[14212 rows x 9 columns]"
      ]
     },
     "metadata": {},
     "execution_count": 20
    }
   ],
   "metadata": {}
  },
  {
   "cell_type": "code",
   "execution_count": 21,
   "source": [
    "df2=users.copy()\r\n",
    "df2[[\"LOCATION\"]] = df2[[\"LOCATION\"]].replace(',\\ USA$', '',regex = True)\r\n",
    "df2[[\"LOCATION\"]] = df2[[\"LOCATION\"]].replace('.*,\\ (?=[A-Z]{2}$)', '',regex = True)\r\n",
    "df2[[\"LOCATION\"]] = df2[[\"LOCATION\"]].replace('.*\\ (?=[A-Z]{2}$)', '',regex = True)\r\n",
    "df2[[\"LOCATION\"]] = df2[[\"LOCATION\"]].replace('.*,\\ ', '',regex = True)\r\n",
    "df2[[\"LOCATION\"]] = df2[[\"LOCATION\"]].replace('.*,(?=[A-Z]{2}$)', '',regex = True)\r\n",
    "df2[[\"LOCATION\"]] = df2[[\"LOCATION\"]].replace({\"LOCATION\": sd})"
   ],
   "outputs": [],
   "metadata": {}
  },
  {
   "cell_type": "code",
   "execution_count": 22,
   "source": [
    "df3 = df2.query('LOCATION in @states')\n",
    "state_users = df3.groupby('LOCATION').count()['AUTHOR_ID']"
   ],
   "outputs": [],
   "metadata": {}
  },
  {
   "cell_type": "code",
   "execution_count": 23,
   "source": [
    "df3"
   ],
   "outputs": [
    {
     "output_type": "execute_result",
     "data": {
      "text/html": [
       "<div>\n",
       "<style scoped>\n",
       "    .dataframe tbody tr th:only-of-type {\n",
       "        vertical-align: middle;\n",
       "    }\n",
       "\n",
       "    .dataframe tbody tr th {\n",
       "        vertical-align: top;\n",
       "    }\n",
       "\n",
       "    .dataframe thead th {\n",
       "        text-align: right;\n",
       "    }\n",
       "</style>\n",
       "<table border=\"1\" class=\"dataframe\">\n",
       "  <thead>\n",
       "    <tr style=\"text-align: right;\">\n",
       "      <th></th>\n",
       "      <th>AUTHOR_ID</th>\n",
       "      <th>CREATED_AT</th>\n",
       "      <th>LOCATION</th>\n",
       "      <th>DESCRIPTION</th>\n",
       "      <th>FOLLOWERS_COUNT</th>\n",
       "      <th>FOLLOWING_COUNT</th>\n",
       "      <th>LISTED_COUNT</th>\n",
       "      <th>TWEET_COUNT</th>\n",
       "      <th>VERIFIED</th>\n",
       "    </tr>\n",
       "  </thead>\n",
       "  <tbody>\n",
       "    <tr>\n",
       "      <th>3</th>\n",
       "      <td>10003742</td>\n",
       "      <td>2007-11-06</td>\n",
       "      <td>NY</td>\n",
       "      <td>Anchor / Sr. Correspondent PBS @NewsHour &amp; @Sc...</td>\n",
       "      <td>32362</td>\n",
       "      <td>1632</td>\n",
       "      <td>1002</td>\n",
       "      <td>21815</td>\n",
       "      <td>True</td>\n",
       "    </tr>\n",
       "    <tr>\n",
       "      <th>4</th>\n",
       "      <td>100077645</td>\n",
       "      <td>2009-12-28</td>\n",
       "      <td>CA</td>\n",
       "      <td>All Your Favorite Entertainment News, Pop-Cult...</td>\n",
       "      <td>504344</td>\n",
       "      <td>13462</td>\n",
       "      <td>1539</td>\n",
       "      <td>62184</td>\n",
       "      <td>True</td>\n",
       "    </tr>\n",
       "    <tr>\n",
       "      <th>5</th>\n",
       "      <td>1000781118</td>\n",
       "      <td>2012-12-10</td>\n",
       "      <td>IN</td>\n",
       "      <td>Deathvestation is a online magazine that cover...</td>\n",
       "      <td>41</td>\n",
       "      <td>45</td>\n",
       "      <td>0</td>\n",
       "      <td>6689</td>\n",
       "      <td>False</td>\n",
       "    </tr>\n",
       "    <tr>\n",
       "      <th>9</th>\n",
       "      <td>100146431</td>\n",
       "      <td>2009-12-29</td>\n",
       "      <td>OK</td>\n",
       "      <td></td>\n",
       "      <td>2623</td>\n",
       "      <td>3821</td>\n",
       "      <td>22</td>\n",
       "      <td>414807</td>\n",
       "      <td>False</td>\n",
       "    </tr>\n",
       "    <tr>\n",
       "      <th>12</th>\n",
       "      <td>1001796463389749248</td>\n",
       "      <td>2018-05-30</td>\n",
       "      <td>TX</td>\n",
       "      <td></td>\n",
       "      <td>4057</td>\n",
       "      <td>699</td>\n",
       "      <td>4</td>\n",
       "      <td>137312</td>\n",
       "      <td>False</td>\n",
       "    </tr>\n",
       "    <tr>\n",
       "      <th>...</th>\n",
       "      <td>...</td>\n",
       "      <td>...</td>\n",
       "      <td>...</td>\n",
       "      <td>...</td>\n",
       "      <td>...</td>\n",
       "      <td>...</td>\n",
       "      <td>...</td>\n",
       "      <td>...</td>\n",
       "      <td>...</td>\n",
       "    </tr>\n",
       "    <tr>\n",
       "      <th>14194</th>\n",
       "      <td>996551365</td>\n",
       "      <td>2012-12-08</td>\n",
       "      <td>CA</td>\n",
       "      <td>Writer, storyteller, latina. Periodista chilen...</td>\n",
       "      <td>878</td>\n",
       "      <td>885</td>\n",
       "      <td>28</td>\n",
       "      <td>1905</td>\n",
       "      <td>False</td>\n",
       "    </tr>\n",
       "    <tr>\n",
       "      <th>14195</th>\n",
       "      <td>996576014</td>\n",
       "      <td>2012-12-08</td>\n",
       "      <td>WA</td>\n",
       "      <td>amosc: wheresfreddo.</td>\n",
       "      <td>294</td>\n",
       "      <td>223</td>\n",
       "      <td>0</td>\n",
       "      <td>6783</td>\n",
       "      <td>False</td>\n",
       "    </tr>\n",
       "    <tr>\n",
       "      <th>14196</th>\n",
       "      <td>9967532</td>\n",
       "      <td>2007-11-05</td>\n",
       "      <td>SC</td>\n",
       "      <td>Non-native Charlestonian. @EaterCarolinas Edit...</td>\n",
       "      <td>4915</td>\n",
       "      <td>1028</td>\n",
       "      <td>132</td>\n",
       "      <td>25769</td>\n",
       "      <td>True</td>\n",
       "    </tr>\n",
       "    <tr>\n",
       "      <th>14204</th>\n",
       "      <td>999099590610632704</td>\n",
       "      <td>2018-05-23</td>\n",
       "      <td>PA</td>\n",
       "      <td>History History Politics</td>\n",
       "      <td>46</td>\n",
       "      <td>484</td>\n",
       "      <td>0</td>\n",
       "      <td>23055</td>\n",
       "      <td>False</td>\n",
       "    </tr>\n",
       "    <tr>\n",
       "      <th>14208</th>\n",
       "      <td>99963885</td>\n",
       "      <td>2009-12-28</td>\n",
       "      <td>TX</td>\n",
       "      <td>Tweets are my own and should never be taken se...</td>\n",
       "      <td>232</td>\n",
       "      <td>514</td>\n",
       "      <td>0</td>\n",
       "      <td>11120</td>\n",
       "      <td>False</td>\n",
       "    </tr>\n",
       "  </tbody>\n",
       "</table>\n",
       "<p>3107 rows × 9 columns</p>\n",
       "</div>"
      ],
      "text/plain": [
       "                 AUTHOR_ID  CREATED_AT LOCATION  \\\n",
       "3                 10003742  2007-11-06       NY   \n",
       "4                100077645  2009-12-28       CA   \n",
       "5               1000781118  2012-12-10       IN   \n",
       "9                100146431  2009-12-29       OK   \n",
       "12     1001796463389749248  2018-05-30       TX   \n",
       "...                    ...         ...      ...   \n",
       "14194            996551365  2012-12-08       CA   \n",
       "14195            996576014  2012-12-08       WA   \n",
       "14196              9967532  2007-11-05       SC   \n",
       "14204   999099590610632704  2018-05-23       PA   \n",
       "14208             99963885  2009-12-28       TX   \n",
       "\n",
       "                                             DESCRIPTION  FOLLOWERS_COUNT  \\\n",
       "3      Anchor / Sr. Correspondent PBS @NewsHour & @Sc...            32362   \n",
       "4      All Your Favorite Entertainment News, Pop-Cult...           504344   \n",
       "5      Deathvestation is a online magazine that cover...               41   \n",
       "9                                                                    2623   \n",
       "12                                                                   4057   \n",
       "...                                                  ...              ...   \n",
       "14194  Writer, storyteller, latina. Periodista chilen...              878   \n",
       "14195                               amosc: wheresfreddo.              294   \n",
       "14196  Non-native Charlestonian. @EaterCarolinas Edit...             4915   \n",
       "14204                           History History Politics               46   \n",
       "14208  Tweets are my own and should never be taken se...              232   \n",
       "\n",
       "       FOLLOWING_COUNT  LISTED_COUNT  TWEET_COUNT VERIFIED  \n",
       "3                 1632          1002        21815     True  \n",
       "4                13462          1539        62184     True  \n",
       "5                   45             0         6689    False  \n",
       "9                 3821            22       414807    False  \n",
       "12                 699             4       137312    False  \n",
       "...                ...           ...          ...      ...  \n",
       "14194              885            28         1905    False  \n",
       "14195              223             0         6783    False  \n",
       "14196             1028           132        25769     True  \n",
       "14204              484             0        23055    False  \n",
       "14208              514             0        11120    False  \n",
       "\n",
       "[3107 rows x 9 columns]"
      ]
     },
     "metadata": {},
     "execution_count": 23
    }
   ],
   "metadata": {}
  },
  {
   "cell_type": "code",
   "execution_count": 24,
   "source": [
    "pops = pd.read_csv('statepop.csv')"
   ],
   "outputs": [],
   "metadata": {}
  },
  {
   "cell_type": "code",
   "execution_count": 25,
   "source": [
    "pops = pops.replace({\"State\": sd})\n",
    "pops = pops.sort_values('State')"
   ],
   "outputs": [],
   "metadata": {}
  },
  {
   "cell_type": "code",
   "execution_count": 26,
   "source": [
    "pops['users']=state_users.values\n",
    "pops['per_mil']=pops['users']/pops['Pop']*1000000\n",
    "pops"
   ],
   "outputs": [
    {
     "output_type": "execute_result",
     "data": {
      "text/html": [
       "<div>\n",
       "<style scoped>\n",
       "    .dataframe tbody tr th:only-of-type {\n",
       "        vertical-align: middle;\n",
       "    }\n",
       "\n",
       "    .dataframe tbody tr th {\n",
       "        vertical-align: top;\n",
       "    }\n",
       "\n",
       "    .dataframe thead th {\n",
       "        text-align: right;\n",
       "    }\n",
       "</style>\n",
       "<table border=\"1\" class=\"dataframe\">\n",
       "  <thead>\n",
       "    <tr style=\"text-align: right;\">\n",
       "      <th></th>\n",
       "      <th>State</th>\n",
       "      <th>Pop</th>\n",
       "      <th>users</th>\n",
       "      <th>per_mil</th>\n",
       "    </tr>\n",
       "  </thead>\n",
       "  <tbody>\n",
       "    <tr>\n",
       "      <th>1</th>\n",
       "      <td>AK</td>\n",
       "      <td>731545</td>\n",
       "      <td>6</td>\n",
       "      <td>8.201819</td>\n",
       "    </tr>\n",
       "    <tr>\n",
       "      <th>0</th>\n",
       "      <td>AL</td>\n",
       "      <td>4903185</td>\n",
       "      <td>33</td>\n",
       "      <td>6.730319</td>\n",
       "    </tr>\n",
       "    <tr>\n",
       "      <th>3</th>\n",
       "      <td>AR</td>\n",
       "      <td>3017825</td>\n",
       "      <td>13</td>\n",
       "      <td>4.307738</td>\n",
       "    </tr>\n",
       "    <tr>\n",
       "      <th>2</th>\n",
       "      <td>AZ</td>\n",
       "      <td>7278717</td>\n",
       "      <td>56</td>\n",
       "      <td>7.693664</td>\n",
       "    </tr>\n",
       "    <tr>\n",
       "      <th>4</th>\n",
       "      <td>CA</td>\n",
       "      <td>39512223</td>\n",
       "      <td>395</td>\n",
       "      <td>9.996907</td>\n",
       "    </tr>\n",
       "    <tr>\n",
       "      <th>5</th>\n",
       "      <td>CO</td>\n",
       "      <td>5758736</td>\n",
       "      <td>26</td>\n",
       "      <td>4.514880</td>\n",
       "    </tr>\n",
       "    <tr>\n",
       "      <th>6</th>\n",
       "      <td>CT</td>\n",
       "      <td>3565287</td>\n",
       "      <td>44</td>\n",
       "      <td>12.341222</td>\n",
       "    </tr>\n",
       "    <tr>\n",
       "      <th>8</th>\n",
       "      <td>DC</td>\n",
       "      <td>705749</td>\n",
       "      <td>159</td>\n",
       "      <td>225.292562</td>\n",
       "    </tr>\n",
       "    <tr>\n",
       "      <th>7</th>\n",
       "      <td>DE</td>\n",
       "      <td>973764</td>\n",
       "      <td>9</td>\n",
       "      <td>9.242486</td>\n",
       "    </tr>\n",
       "    <tr>\n",
       "      <th>9</th>\n",
       "      <td>FL</td>\n",
       "      <td>21477737</td>\n",
       "      <td>201</td>\n",
       "      <td>9.358528</td>\n",
       "    </tr>\n",
       "    <tr>\n",
       "      <th>10</th>\n",
       "      <td>GA</td>\n",
       "      <td>10617423</td>\n",
       "      <td>100</td>\n",
       "      <td>9.418481</td>\n",
       "    </tr>\n",
       "    <tr>\n",
       "      <th>11</th>\n",
       "      <td>HI</td>\n",
       "      <td>1415872</td>\n",
       "      <td>4</td>\n",
       "      <td>2.825114</td>\n",
       "    </tr>\n",
       "    <tr>\n",
       "      <th>15</th>\n",
       "      <td>IA</td>\n",
       "      <td>3155070</td>\n",
       "      <td>23</td>\n",
       "      <td>7.289854</td>\n",
       "    </tr>\n",
       "    <tr>\n",
       "      <th>12</th>\n",
       "      <td>ID</td>\n",
       "      <td>1787065</td>\n",
       "      <td>14</td>\n",
       "      <td>7.834074</td>\n",
       "    </tr>\n",
       "    <tr>\n",
       "      <th>13</th>\n",
       "      <td>IL</td>\n",
       "      <td>12671821</td>\n",
       "      <td>106</td>\n",
       "      <td>8.365017</td>\n",
       "    </tr>\n",
       "    <tr>\n",
       "      <th>14</th>\n",
       "      <td>IN</td>\n",
       "      <td>6732219</td>\n",
       "      <td>36</td>\n",
       "      <td>5.347420</td>\n",
       "    </tr>\n",
       "    <tr>\n",
       "      <th>16</th>\n",
       "      <td>KS</td>\n",
       "      <td>2913314</td>\n",
       "      <td>20</td>\n",
       "      <td>6.865034</td>\n",
       "    </tr>\n",
       "    <tr>\n",
       "      <th>17</th>\n",
       "      <td>KY</td>\n",
       "      <td>4467673</td>\n",
       "      <td>37</td>\n",
       "      <td>8.281716</td>\n",
       "    </tr>\n",
       "    <tr>\n",
       "      <th>18</th>\n",
       "      <td>LA</td>\n",
       "      <td>4648794</td>\n",
       "      <td>44</td>\n",
       "      <td>9.464820</td>\n",
       "    </tr>\n",
       "    <tr>\n",
       "      <th>21</th>\n",
       "      <td>MA</td>\n",
       "      <td>6949503</td>\n",
       "      <td>75</td>\n",
       "      <td>10.792139</td>\n",
       "    </tr>\n",
       "    <tr>\n",
       "      <th>20</th>\n",
       "      <td>MD</td>\n",
       "      <td>6045680</td>\n",
       "      <td>49</td>\n",
       "      <td>8.104961</td>\n",
       "    </tr>\n",
       "    <tr>\n",
       "      <th>19</th>\n",
       "      <td>ME</td>\n",
       "      <td>1344212</td>\n",
       "      <td>12</td>\n",
       "      <td>8.927163</td>\n",
       "    </tr>\n",
       "    <tr>\n",
       "      <th>22</th>\n",
       "      <td>MI</td>\n",
       "      <td>9986857</td>\n",
       "      <td>78</td>\n",
       "      <td>7.810265</td>\n",
       "    </tr>\n",
       "    <tr>\n",
       "      <th>23</th>\n",
       "      <td>MN</td>\n",
       "      <td>5639632</td>\n",
       "      <td>44</td>\n",
       "      <td>7.801928</td>\n",
       "    </tr>\n",
       "    <tr>\n",
       "      <th>25</th>\n",
       "      <td>MO</td>\n",
       "      <td>6137428</td>\n",
       "      <td>31</td>\n",
       "      <td>5.050976</td>\n",
       "    </tr>\n",
       "    <tr>\n",
       "      <th>24</th>\n",
       "      <td>MS</td>\n",
       "      <td>2976149</td>\n",
       "      <td>10</td>\n",
       "      <td>3.360047</td>\n",
       "    </tr>\n",
       "    <tr>\n",
       "      <th>26</th>\n",
       "      <td>MT</td>\n",
       "      <td>1068778</td>\n",
       "      <td>9</td>\n",
       "      <td>8.420832</td>\n",
       "    </tr>\n",
       "    <tr>\n",
       "      <th>33</th>\n",
       "      <td>NC</td>\n",
       "      <td>10488084</td>\n",
       "      <td>119</td>\n",
       "      <td>11.346210</td>\n",
       "    </tr>\n",
       "    <tr>\n",
       "      <th>34</th>\n",
       "      <td>ND</td>\n",
       "      <td>762062</td>\n",
       "      <td>3</td>\n",
       "      <td>3.936688</td>\n",
       "    </tr>\n",
       "    <tr>\n",
       "      <th>27</th>\n",
       "      <td>NE</td>\n",
       "      <td>1934408</td>\n",
       "      <td>12</td>\n",
       "      <td>6.203448</td>\n",
       "    </tr>\n",
       "    <tr>\n",
       "      <th>29</th>\n",
       "      <td>NH</td>\n",
       "      <td>1359711</td>\n",
       "      <td>7</td>\n",
       "      <td>5.148153</td>\n",
       "    </tr>\n",
       "    <tr>\n",
       "      <th>30</th>\n",
       "      <td>NJ</td>\n",
       "      <td>8882190</td>\n",
       "      <td>72</td>\n",
       "      <td>8.106109</td>\n",
       "    </tr>\n",
       "    <tr>\n",
       "      <th>31</th>\n",
       "      <td>NM</td>\n",
       "      <td>2096829</td>\n",
       "      <td>11</td>\n",
       "      <td>5.246017</td>\n",
       "    </tr>\n",
       "    <tr>\n",
       "      <th>28</th>\n",
       "      <td>NV</td>\n",
       "      <td>3080156</td>\n",
       "      <td>43</td>\n",
       "      <td>13.960332</td>\n",
       "    </tr>\n",
       "    <tr>\n",
       "      <th>32</th>\n",
       "      <td>NY</td>\n",
       "      <td>19453561</td>\n",
       "      <td>319</td>\n",
       "      <td>16.398026</td>\n",
       "    </tr>\n",
       "    <tr>\n",
       "      <th>35</th>\n",
       "      <td>OH</td>\n",
       "      <td>11689100</td>\n",
       "      <td>104</td>\n",
       "      <td>8.897178</td>\n",
       "    </tr>\n",
       "    <tr>\n",
       "      <th>36</th>\n",
       "      <td>OK</td>\n",
       "      <td>3956971</td>\n",
       "      <td>22</td>\n",
       "      <td>5.559808</td>\n",
       "    </tr>\n",
       "    <tr>\n",
       "      <th>37</th>\n",
       "      <td>OR</td>\n",
       "      <td>4217737</td>\n",
       "      <td>45</td>\n",
       "      <td>10.669229</td>\n",
       "    </tr>\n",
       "    <tr>\n",
       "      <th>38</th>\n",
       "      <td>PA</td>\n",
       "      <td>12801989</td>\n",
       "      <td>122</td>\n",
       "      <td>9.529769</td>\n",
       "    </tr>\n",
       "    <tr>\n",
       "      <th>39</th>\n",
       "      <td>RI</td>\n",
       "      <td>1059361</td>\n",
       "      <td>11</td>\n",
       "      <td>10.383618</td>\n",
       "    </tr>\n",
       "    <tr>\n",
       "      <th>40</th>\n",
       "      <td>SC</td>\n",
       "      <td>5148714</td>\n",
       "      <td>46</td>\n",
       "      <td>8.934270</td>\n",
       "    </tr>\n",
       "    <tr>\n",
       "      <th>41</th>\n",
       "      <td>SD</td>\n",
       "      <td>884659</td>\n",
       "      <td>4</td>\n",
       "      <td>4.521516</td>\n",
       "    </tr>\n",
       "    <tr>\n",
       "      <th>42</th>\n",
       "      <td>TN</td>\n",
       "      <td>6833174</td>\n",
       "      <td>63</td>\n",
       "      <td>9.219727</td>\n",
       "    </tr>\n",
       "    <tr>\n",
       "      <th>43</th>\n",
       "      <td>TX</td>\n",
       "      <td>28995881</td>\n",
       "      <td>242</td>\n",
       "      <td>8.346013</td>\n",
       "    </tr>\n",
       "    <tr>\n",
       "      <th>44</th>\n",
       "      <td>UT</td>\n",
       "      <td>3205958</td>\n",
       "      <td>18</td>\n",
       "      <td>5.614546</td>\n",
       "    </tr>\n",
       "    <tr>\n",
       "      <th>46</th>\n",
       "      <td>VA</td>\n",
       "      <td>8535519</td>\n",
       "      <td>73</td>\n",
       "      <td>8.552497</td>\n",
       "    </tr>\n",
       "    <tr>\n",
       "      <th>45</th>\n",
       "      <td>VT</td>\n",
       "      <td>623989</td>\n",
       "      <td>9</td>\n",
       "      <td>14.423331</td>\n",
       "    </tr>\n",
       "    <tr>\n",
       "      <th>47</th>\n",
       "      <td>WA</td>\n",
       "      <td>7614893</td>\n",
       "      <td>77</td>\n",
       "      <td>10.111764</td>\n",
       "    </tr>\n",
       "    <tr>\n",
       "      <th>49</th>\n",
       "      <td>WI</td>\n",
       "      <td>5822434</td>\n",
       "      <td>35</td>\n",
       "      <td>6.011232</td>\n",
       "    </tr>\n",
       "    <tr>\n",
       "      <th>48</th>\n",
       "      <td>WV</td>\n",
       "      <td>1792147</td>\n",
       "      <td>15</td>\n",
       "      <td>8.369849</td>\n",
       "    </tr>\n",
       "    <tr>\n",
       "      <th>50</th>\n",
       "      <td>WY</td>\n",
       "      <td>578759</td>\n",
       "      <td>1</td>\n",
       "      <td>1.727835</td>\n",
       "    </tr>\n",
       "  </tbody>\n",
       "</table>\n",
       "</div>"
      ],
      "text/plain": [
       "   State       Pop  users     per_mil\n",
       "1     AK    731545      6    8.201819\n",
       "0     AL   4903185     33    6.730319\n",
       "3     AR   3017825     13    4.307738\n",
       "2     AZ   7278717     56    7.693664\n",
       "4     CA  39512223    395    9.996907\n",
       "5     CO   5758736     26    4.514880\n",
       "6     CT   3565287     44   12.341222\n",
       "8     DC    705749    159  225.292562\n",
       "7     DE    973764      9    9.242486\n",
       "9     FL  21477737    201    9.358528\n",
       "10    GA  10617423    100    9.418481\n",
       "11    HI   1415872      4    2.825114\n",
       "15    IA   3155070     23    7.289854\n",
       "12    ID   1787065     14    7.834074\n",
       "13    IL  12671821    106    8.365017\n",
       "14    IN   6732219     36    5.347420\n",
       "16    KS   2913314     20    6.865034\n",
       "17    KY   4467673     37    8.281716\n",
       "18    LA   4648794     44    9.464820\n",
       "21    MA   6949503     75   10.792139\n",
       "20    MD   6045680     49    8.104961\n",
       "19    ME   1344212     12    8.927163\n",
       "22    MI   9986857     78    7.810265\n",
       "23    MN   5639632     44    7.801928\n",
       "25    MO   6137428     31    5.050976\n",
       "24    MS   2976149     10    3.360047\n",
       "26    MT   1068778      9    8.420832\n",
       "33    NC  10488084    119   11.346210\n",
       "34    ND    762062      3    3.936688\n",
       "27    NE   1934408     12    6.203448\n",
       "29    NH   1359711      7    5.148153\n",
       "30    NJ   8882190     72    8.106109\n",
       "31    NM   2096829     11    5.246017\n",
       "28    NV   3080156     43   13.960332\n",
       "32    NY  19453561    319   16.398026\n",
       "35    OH  11689100    104    8.897178\n",
       "36    OK   3956971     22    5.559808\n",
       "37    OR   4217737     45   10.669229\n",
       "38    PA  12801989    122    9.529769\n",
       "39    RI   1059361     11   10.383618\n",
       "40    SC   5148714     46    8.934270\n",
       "41    SD    884659      4    4.521516\n",
       "42    TN   6833174     63    9.219727\n",
       "43    TX  28995881    242    8.346013\n",
       "44    UT   3205958     18    5.614546\n",
       "46    VA   8535519     73    8.552497\n",
       "45    VT    623989      9   14.423331\n",
       "47    WA   7614893     77   10.111764\n",
       "49    WI   5822434     35    6.011232\n",
       "48    WV   1792147     15    8.369849\n",
       "50    WY    578759      1    1.727835"
      ]
     },
     "metadata": {},
     "execution_count": 26
    }
   ],
   "metadata": {}
  },
  {
   "cell_type": "code",
   "execution_count": 27,
   "source": [
    "pops_formap = pops[pops.State != 'DC']\n",
    "pops_formap"
   ],
   "outputs": [
    {
     "output_type": "execute_result",
     "data": {
      "text/html": [
       "<div>\n",
       "<style scoped>\n",
       "    .dataframe tbody tr th:only-of-type {\n",
       "        vertical-align: middle;\n",
       "    }\n",
       "\n",
       "    .dataframe tbody tr th {\n",
       "        vertical-align: top;\n",
       "    }\n",
       "\n",
       "    .dataframe thead th {\n",
       "        text-align: right;\n",
       "    }\n",
       "</style>\n",
       "<table border=\"1\" class=\"dataframe\">\n",
       "  <thead>\n",
       "    <tr style=\"text-align: right;\">\n",
       "      <th></th>\n",
       "      <th>State</th>\n",
       "      <th>Pop</th>\n",
       "      <th>users</th>\n",
       "      <th>per_mil</th>\n",
       "    </tr>\n",
       "  </thead>\n",
       "  <tbody>\n",
       "    <tr>\n",
       "      <th>1</th>\n",
       "      <td>AK</td>\n",
       "      <td>731545</td>\n",
       "      <td>6</td>\n",
       "      <td>8.201819</td>\n",
       "    </tr>\n",
       "    <tr>\n",
       "      <th>0</th>\n",
       "      <td>AL</td>\n",
       "      <td>4903185</td>\n",
       "      <td>33</td>\n",
       "      <td>6.730319</td>\n",
       "    </tr>\n",
       "    <tr>\n",
       "      <th>3</th>\n",
       "      <td>AR</td>\n",
       "      <td>3017825</td>\n",
       "      <td>13</td>\n",
       "      <td>4.307738</td>\n",
       "    </tr>\n",
       "    <tr>\n",
       "      <th>2</th>\n",
       "      <td>AZ</td>\n",
       "      <td>7278717</td>\n",
       "      <td>56</td>\n",
       "      <td>7.693664</td>\n",
       "    </tr>\n",
       "    <tr>\n",
       "      <th>4</th>\n",
       "      <td>CA</td>\n",
       "      <td>39512223</td>\n",
       "      <td>395</td>\n",
       "      <td>9.996907</td>\n",
       "    </tr>\n",
       "    <tr>\n",
       "      <th>5</th>\n",
       "      <td>CO</td>\n",
       "      <td>5758736</td>\n",
       "      <td>26</td>\n",
       "      <td>4.514880</td>\n",
       "    </tr>\n",
       "    <tr>\n",
       "      <th>6</th>\n",
       "      <td>CT</td>\n",
       "      <td>3565287</td>\n",
       "      <td>44</td>\n",
       "      <td>12.341222</td>\n",
       "    </tr>\n",
       "    <tr>\n",
       "      <th>7</th>\n",
       "      <td>DE</td>\n",
       "      <td>973764</td>\n",
       "      <td>9</td>\n",
       "      <td>9.242486</td>\n",
       "    </tr>\n",
       "    <tr>\n",
       "      <th>9</th>\n",
       "      <td>FL</td>\n",
       "      <td>21477737</td>\n",
       "      <td>201</td>\n",
       "      <td>9.358528</td>\n",
       "    </tr>\n",
       "    <tr>\n",
       "      <th>10</th>\n",
       "      <td>GA</td>\n",
       "      <td>10617423</td>\n",
       "      <td>100</td>\n",
       "      <td>9.418481</td>\n",
       "    </tr>\n",
       "    <tr>\n",
       "      <th>11</th>\n",
       "      <td>HI</td>\n",
       "      <td>1415872</td>\n",
       "      <td>4</td>\n",
       "      <td>2.825114</td>\n",
       "    </tr>\n",
       "    <tr>\n",
       "      <th>15</th>\n",
       "      <td>IA</td>\n",
       "      <td>3155070</td>\n",
       "      <td>23</td>\n",
       "      <td>7.289854</td>\n",
       "    </tr>\n",
       "    <tr>\n",
       "      <th>12</th>\n",
       "      <td>ID</td>\n",
       "      <td>1787065</td>\n",
       "      <td>14</td>\n",
       "      <td>7.834074</td>\n",
       "    </tr>\n",
       "    <tr>\n",
       "      <th>13</th>\n",
       "      <td>IL</td>\n",
       "      <td>12671821</td>\n",
       "      <td>106</td>\n",
       "      <td>8.365017</td>\n",
       "    </tr>\n",
       "    <tr>\n",
       "      <th>14</th>\n",
       "      <td>IN</td>\n",
       "      <td>6732219</td>\n",
       "      <td>36</td>\n",
       "      <td>5.347420</td>\n",
       "    </tr>\n",
       "    <tr>\n",
       "      <th>16</th>\n",
       "      <td>KS</td>\n",
       "      <td>2913314</td>\n",
       "      <td>20</td>\n",
       "      <td>6.865034</td>\n",
       "    </tr>\n",
       "    <tr>\n",
       "      <th>17</th>\n",
       "      <td>KY</td>\n",
       "      <td>4467673</td>\n",
       "      <td>37</td>\n",
       "      <td>8.281716</td>\n",
       "    </tr>\n",
       "    <tr>\n",
       "      <th>18</th>\n",
       "      <td>LA</td>\n",
       "      <td>4648794</td>\n",
       "      <td>44</td>\n",
       "      <td>9.464820</td>\n",
       "    </tr>\n",
       "    <tr>\n",
       "      <th>21</th>\n",
       "      <td>MA</td>\n",
       "      <td>6949503</td>\n",
       "      <td>75</td>\n",
       "      <td>10.792139</td>\n",
       "    </tr>\n",
       "    <tr>\n",
       "      <th>20</th>\n",
       "      <td>MD</td>\n",
       "      <td>6045680</td>\n",
       "      <td>49</td>\n",
       "      <td>8.104961</td>\n",
       "    </tr>\n",
       "    <tr>\n",
       "      <th>19</th>\n",
       "      <td>ME</td>\n",
       "      <td>1344212</td>\n",
       "      <td>12</td>\n",
       "      <td>8.927163</td>\n",
       "    </tr>\n",
       "    <tr>\n",
       "      <th>22</th>\n",
       "      <td>MI</td>\n",
       "      <td>9986857</td>\n",
       "      <td>78</td>\n",
       "      <td>7.810265</td>\n",
       "    </tr>\n",
       "    <tr>\n",
       "      <th>23</th>\n",
       "      <td>MN</td>\n",
       "      <td>5639632</td>\n",
       "      <td>44</td>\n",
       "      <td>7.801928</td>\n",
       "    </tr>\n",
       "    <tr>\n",
       "      <th>25</th>\n",
       "      <td>MO</td>\n",
       "      <td>6137428</td>\n",
       "      <td>31</td>\n",
       "      <td>5.050976</td>\n",
       "    </tr>\n",
       "    <tr>\n",
       "      <th>24</th>\n",
       "      <td>MS</td>\n",
       "      <td>2976149</td>\n",
       "      <td>10</td>\n",
       "      <td>3.360047</td>\n",
       "    </tr>\n",
       "    <tr>\n",
       "      <th>26</th>\n",
       "      <td>MT</td>\n",
       "      <td>1068778</td>\n",
       "      <td>9</td>\n",
       "      <td>8.420832</td>\n",
       "    </tr>\n",
       "    <tr>\n",
       "      <th>33</th>\n",
       "      <td>NC</td>\n",
       "      <td>10488084</td>\n",
       "      <td>119</td>\n",
       "      <td>11.346210</td>\n",
       "    </tr>\n",
       "    <tr>\n",
       "      <th>34</th>\n",
       "      <td>ND</td>\n",
       "      <td>762062</td>\n",
       "      <td>3</td>\n",
       "      <td>3.936688</td>\n",
       "    </tr>\n",
       "    <tr>\n",
       "      <th>27</th>\n",
       "      <td>NE</td>\n",
       "      <td>1934408</td>\n",
       "      <td>12</td>\n",
       "      <td>6.203448</td>\n",
       "    </tr>\n",
       "    <tr>\n",
       "      <th>29</th>\n",
       "      <td>NH</td>\n",
       "      <td>1359711</td>\n",
       "      <td>7</td>\n",
       "      <td>5.148153</td>\n",
       "    </tr>\n",
       "    <tr>\n",
       "      <th>30</th>\n",
       "      <td>NJ</td>\n",
       "      <td>8882190</td>\n",
       "      <td>72</td>\n",
       "      <td>8.106109</td>\n",
       "    </tr>\n",
       "    <tr>\n",
       "      <th>31</th>\n",
       "      <td>NM</td>\n",
       "      <td>2096829</td>\n",
       "      <td>11</td>\n",
       "      <td>5.246017</td>\n",
       "    </tr>\n",
       "    <tr>\n",
       "      <th>28</th>\n",
       "      <td>NV</td>\n",
       "      <td>3080156</td>\n",
       "      <td>43</td>\n",
       "      <td>13.960332</td>\n",
       "    </tr>\n",
       "    <tr>\n",
       "      <th>32</th>\n",
       "      <td>NY</td>\n",
       "      <td>19453561</td>\n",
       "      <td>319</td>\n",
       "      <td>16.398026</td>\n",
       "    </tr>\n",
       "    <tr>\n",
       "      <th>35</th>\n",
       "      <td>OH</td>\n",
       "      <td>11689100</td>\n",
       "      <td>104</td>\n",
       "      <td>8.897178</td>\n",
       "    </tr>\n",
       "    <tr>\n",
       "      <th>36</th>\n",
       "      <td>OK</td>\n",
       "      <td>3956971</td>\n",
       "      <td>22</td>\n",
       "      <td>5.559808</td>\n",
       "    </tr>\n",
       "    <tr>\n",
       "      <th>37</th>\n",
       "      <td>OR</td>\n",
       "      <td>4217737</td>\n",
       "      <td>45</td>\n",
       "      <td>10.669229</td>\n",
       "    </tr>\n",
       "    <tr>\n",
       "      <th>38</th>\n",
       "      <td>PA</td>\n",
       "      <td>12801989</td>\n",
       "      <td>122</td>\n",
       "      <td>9.529769</td>\n",
       "    </tr>\n",
       "    <tr>\n",
       "      <th>39</th>\n",
       "      <td>RI</td>\n",
       "      <td>1059361</td>\n",
       "      <td>11</td>\n",
       "      <td>10.383618</td>\n",
       "    </tr>\n",
       "    <tr>\n",
       "      <th>40</th>\n",
       "      <td>SC</td>\n",
       "      <td>5148714</td>\n",
       "      <td>46</td>\n",
       "      <td>8.934270</td>\n",
       "    </tr>\n",
       "    <tr>\n",
       "      <th>41</th>\n",
       "      <td>SD</td>\n",
       "      <td>884659</td>\n",
       "      <td>4</td>\n",
       "      <td>4.521516</td>\n",
       "    </tr>\n",
       "    <tr>\n",
       "      <th>42</th>\n",
       "      <td>TN</td>\n",
       "      <td>6833174</td>\n",
       "      <td>63</td>\n",
       "      <td>9.219727</td>\n",
       "    </tr>\n",
       "    <tr>\n",
       "      <th>43</th>\n",
       "      <td>TX</td>\n",
       "      <td>28995881</td>\n",
       "      <td>242</td>\n",
       "      <td>8.346013</td>\n",
       "    </tr>\n",
       "    <tr>\n",
       "      <th>44</th>\n",
       "      <td>UT</td>\n",
       "      <td>3205958</td>\n",
       "      <td>18</td>\n",
       "      <td>5.614546</td>\n",
       "    </tr>\n",
       "    <tr>\n",
       "      <th>46</th>\n",
       "      <td>VA</td>\n",
       "      <td>8535519</td>\n",
       "      <td>73</td>\n",
       "      <td>8.552497</td>\n",
       "    </tr>\n",
       "    <tr>\n",
       "      <th>45</th>\n",
       "      <td>VT</td>\n",
       "      <td>623989</td>\n",
       "      <td>9</td>\n",
       "      <td>14.423331</td>\n",
       "    </tr>\n",
       "    <tr>\n",
       "      <th>47</th>\n",
       "      <td>WA</td>\n",
       "      <td>7614893</td>\n",
       "      <td>77</td>\n",
       "      <td>10.111764</td>\n",
       "    </tr>\n",
       "    <tr>\n",
       "      <th>49</th>\n",
       "      <td>WI</td>\n",
       "      <td>5822434</td>\n",
       "      <td>35</td>\n",
       "      <td>6.011232</td>\n",
       "    </tr>\n",
       "    <tr>\n",
       "      <th>48</th>\n",
       "      <td>WV</td>\n",
       "      <td>1792147</td>\n",
       "      <td>15</td>\n",
       "      <td>8.369849</td>\n",
       "    </tr>\n",
       "    <tr>\n",
       "      <th>50</th>\n",
       "      <td>WY</td>\n",
       "      <td>578759</td>\n",
       "      <td>1</td>\n",
       "      <td>1.727835</td>\n",
       "    </tr>\n",
       "  </tbody>\n",
       "</table>\n",
       "</div>"
      ],
      "text/plain": [
       "   State       Pop  users    per_mil\n",
       "1     AK    731545      6   8.201819\n",
       "0     AL   4903185     33   6.730319\n",
       "3     AR   3017825     13   4.307738\n",
       "2     AZ   7278717     56   7.693664\n",
       "4     CA  39512223    395   9.996907\n",
       "5     CO   5758736     26   4.514880\n",
       "6     CT   3565287     44  12.341222\n",
       "7     DE    973764      9   9.242486\n",
       "9     FL  21477737    201   9.358528\n",
       "10    GA  10617423    100   9.418481\n",
       "11    HI   1415872      4   2.825114\n",
       "15    IA   3155070     23   7.289854\n",
       "12    ID   1787065     14   7.834074\n",
       "13    IL  12671821    106   8.365017\n",
       "14    IN   6732219     36   5.347420\n",
       "16    KS   2913314     20   6.865034\n",
       "17    KY   4467673     37   8.281716\n",
       "18    LA   4648794     44   9.464820\n",
       "21    MA   6949503     75  10.792139\n",
       "20    MD   6045680     49   8.104961\n",
       "19    ME   1344212     12   8.927163\n",
       "22    MI   9986857     78   7.810265\n",
       "23    MN   5639632     44   7.801928\n",
       "25    MO   6137428     31   5.050976\n",
       "24    MS   2976149     10   3.360047\n",
       "26    MT   1068778      9   8.420832\n",
       "33    NC  10488084    119  11.346210\n",
       "34    ND    762062      3   3.936688\n",
       "27    NE   1934408     12   6.203448\n",
       "29    NH   1359711      7   5.148153\n",
       "30    NJ   8882190     72   8.106109\n",
       "31    NM   2096829     11   5.246017\n",
       "28    NV   3080156     43  13.960332\n",
       "32    NY  19453561    319  16.398026\n",
       "35    OH  11689100    104   8.897178\n",
       "36    OK   3956971     22   5.559808\n",
       "37    OR   4217737     45  10.669229\n",
       "38    PA  12801989    122   9.529769\n",
       "39    RI   1059361     11  10.383618\n",
       "40    SC   5148714     46   8.934270\n",
       "41    SD    884659      4   4.521516\n",
       "42    TN   6833174     63   9.219727\n",
       "43    TX  28995881    242   8.346013\n",
       "44    UT   3205958     18   5.614546\n",
       "46    VA   8535519     73   8.552497\n",
       "45    VT    623989      9  14.423331\n",
       "47    WA   7614893     77  10.111764\n",
       "49    WI   5822434     35   6.011232\n",
       "48    WV   1792147     15   8.369849\n",
       "50    WY    578759      1   1.727835"
      ]
     },
     "metadata": {},
     "execution_count": 27
    }
   ],
   "metadata": {}
  },
  {
   "cell_type": "code",
   "execution_count": 28,
   "source": [
    "fig = go.Figure(data=go.Choropleth(\n",
    "    locations=pops_formap['State'], # Spatial coordinates\n",
    "    z = pops_formap['per_mil'], # Data to be color-coded\n",
    "    locationmode = 'USA-states', # set of locations match entries in `locations`\n",
    "    colorscale = 'YlGnBu',\n",
    "    colorbar_title = \"Users/1Mil Pop\",\n",
    "    \n",
    "    \n",
    "))\n",
    "\n",
    "fig.update_layout(\n",
    "    title_text = 'Number of Twitter Users Who Commented on Analyzed Events Per State',\n",
    "    title_font_size = 22,\n",
    "    \n",
    "    geo_scope='usa', # limite map scope to USA\n",
    "    width=1200, height=700\n",
    ")"
   ],
   "outputs": [
    {
     "output_type": "display_data",
     "data": {
      "application/vnd.plotly.v1+json": {
       "config": {
        "plotlyServerURL": "https://plot.ly"
       },
       "data": [
        {
         "colorbar": {
          "title": {
           "text": "Users/1Mil Pop"
          }
         },
         "colorscale": [
          [
           0,
           "rgb(255,255,217)"
          ],
          [
           0.125,
           "rgb(237,248,177)"
          ],
          [
           0.25,
           "rgb(199,233,180)"
          ],
          [
           0.375,
           "rgb(127,205,187)"
          ],
          [
           0.5,
           "rgb(65,182,196)"
          ],
          [
           0.625,
           "rgb(29,145,192)"
          ],
          [
           0.75,
           "rgb(34,94,168)"
          ],
          [
           0.875,
           "rgb(37,52,148)"
          ],
          [
           1,
           "rgb(8,29,88)"
          ]
         ],
         "locationmode": "USA-states",
         "locations": [
          "AK",
          "AL",
          "AR",
          "AZ",
          "CA",
          "CO",
          "CT",
          "DE",
          "FL",
          "GA",
          "HI",
          "IA",
          "ID",
          "IL",
          "IN",
          "KS",
          "KY",
          "LA",
          "MA",
          "MD",
          "ME",
          "MI",
          "MN",
          "MO",
          "MS",
          "MT",
          "NC",
          "ND",
          "NE",
          "NH",
          "NJ",
          "NM",
          "NV",
          "NY",
          "OH",
          "OK",
          "OR",
          "PA",
          "RI",
          "SC",
          "SD",
          "TN",
          "TX",
          "UT",
          "VA",
          "VT",
          "WA",
          "WI",
          "WV",
          "WY"
         ],
         "type": "choropleth",
         "z": [
          8.201819436945096,
          6.730319170090462,
          4.3077381889274555,
          7.693663594834089,
          9.996906526873975,
          4.514879654146326,
          12.341222459790755,
          9.242485858996636,
          9.358527856077203,
          9.418481301912903,
          2.8251141346110384,
          7.28985410783279,
          7.834074306194794,
          8.365017151047192,
          5.3474196249409,
          6.865034115787038,
          8.28171623124611,
          9.464820338350119,
          10.792138660850998,
          8.104960897698854,
          8.927163274840575,
          7.810265031330678,
          7.801927501652589,
          5.050975750754224,
          3.360046825612562,
          8.420832015629063,
          11.346209660410805,
          3.9366875661035454,
          6.20344829012287,
          5.148152806000687,
          8.10610896636978,
          5.246016723347493,
          13.960331879294426,
          16.398026047776035,
          8.89717771256983,
          5.559808247267923,
          10.669228546018871,
          9.529769163213624,
          10.383618048993686,
          8.934269800186998,
          4.521516200027355,
          9.219727172175038,
          8.346013007847564,
          5.614546416390982,
          8.552496924908725,
          14.423331180517604,
          10.111763881646137,
          6.011231728861159,
          8.369849125099671,
          1.7278349019194519
         ]
        }
       ],
       "layout": {
        "geo": {
         "scope": "usa"
        },
        "height": 700,
        "template": {
         "data": {
          "bar": [
           {
            "error_x": {
             "color": "#2a3f5f"
            },
            "error_y": {
             "color": "#2a3f5f"
            },
            "marker": {
             "line": {
              "color": "#E5ECF6",
              "width": 0.5
             },
             "pattern": {
              "fillmode": "overlay",
              "size": 10,
              "solidity": 0.2
             }
            },
            "type": "bar"
           }
          ],
          "barpolar": [
           {
            "marker": {
             "line": {
              "color": "#E5ECF6",
              "width": 0.5
             },
             "pattern": {
              "fillmode": "overlay",
              "size": 10,
              "solidity": 0.2
             }
            },
            "type": "barpolar"
           }
          ],
          "carpet": [
           {
            "aaxis": {
             "endlinecolor": "#2a3f5f",
             "gridcolor": "white",
             "linecolor": "white",
             "minorgridcolor": "white",
             "startlinecolor": "#2a3f5f"
            },
            "baxis": {
             "endlinecolor": "#2a3f5f",
             "gridcolor": "white",
             "linecolor": "white",
             "minorgridcolor": "white",
             "startlinecolor": "#2a3f5f"
            },
            "type": "carpet"
           }
          ],
          "choropleth": [
           {
            "colorbar": {
             "outlinewidth": 0,
             "ticks": ""
            },
            "type": "choropleth"
           }
          ],
          "contour": [
           {
            "colorbar": {
             "outlinewidth": 0,
             "ticks": ""
            },
            "colorscale": [
             [
              0,
              "#0d0887"
             ],
             [
              0.1111111111111111,
              "#46039f"
             ],
             [
              0.2222222222222222,
              "#7201a8"
             ],
             [
              0.3333333333333333,
              "#9c179e"
             ],
             [
              0.4444444444444444,
              "#bd3786"
             ],
             [
              0.5555555555555556,
              "#d8576b"
             ],
             [
              0.6666666666666666,
              "#ed7953"
             ],
             [
              0.7777777777777778,
              "#fb9f3a"
             ],
             [
              0.8888888888888888,
              "#fdca26"
             ],
             [
              1,
              "#f0f921"
             ]
            ],
            "type": "contour"
           }
          ],
          "contourcarpet": [
           {
            "colorbar": {
             "outlinewidth": 0,
             "ticks": ""
            },
            "type": "contourcarpet"
           }
          ],
          "heatmap": [
           {
            "colorbar": {
             "outlinewidth": 0,
             "ticks": ""
            },
            "colorscale": [
             [
              0,
              "#0d0887"
             ],
             [
              0.1111111111111111,
              "#46039f"
             ],
             [
              0.2222222222222222,
              "#7201a8"
             ],
             [
              0.3333333333333333,
              "#9c179e"
             ],
             [
              0.4444444444444444,
              "#bd3786"
             ],
             [
              0.5555555555555556,
              "#d8576b"
             ],
             [
              0.6666666666666666,
              "#ed7953"
             ],
             [
              0.7777777777777778,
              "#fb9f3a"
             ],
             [
              0.8888888888888888,
              "#fdca26"
             ],
             [
              1,
              "#f0f921"
             ]
            ],
            "type": "heatmap"
           }
          ],
          "heatmapgl": [
           {
            "colorbar": {
             "outlinewidth": 0,
             "ticks": ""
            },
            "colorscale": [
             [
              0,
              "#0d0887"
             ],
             [
              0.1111111111111111,
              "#46039f"
             ],
             [
              0.2222222222222222,
              "#7201a8"
             ],
             [
              0.3333333333333333,
              "#9c179e"
             ],
             [
              0.4444444444444444,
              "#bd3786"
             ],
             [
              0.5555555555555556,
              "#d8576b"
             ],
             [
              0.6666666666666666,
              "#ed7953"
             ],
             [
              0.7777777777777778,
              "#fb9f3a"
             ],
             [
              0.8888888888888888,
              "#fdca26"
             ],
             [
              1,
              "#f0f921"
             ]
            ],
            "type": "heatmapgl"
           }
          ],
          "histogram": [
           {
            "marker": {
             "pattern": {
              "fillmode": "overlay",
              "size": 10,
              "solidity": 0.2
             }
            },
            "type": "histogram"
           }
          ],
          "histogram2d": [
           {
            "colorbar": {
             "outlinewidth": 0,
             "ticks": ""
            },
            "colorscale": [
             [
              0,
              "#0d0887"
             ],
             [
              0.1111111111111111,
              "#46039f"
             ],
             [
              0.2222222222222222,
              "#7201a8"
             ],
             [
              0.3333333333333333,
              "#9c179e"
             ],
             [
              0.4444444444444444,
              "#bd3786"
             ],
             [
              0.5555555555555556,
              "#d8576b"
             ],
             [
              0.6666666666666666,
              "#ed7953"
             ],
             [
              0.7777777777777778,
              "#fb9f3a"
             ],
             [
              0.8888888888888888,
              "#fdca26"
             ],
             [
              1,
              "#f0f921"
             ]
            ],
            "type": "histogram2d"
           }
          ],
          "histogram2dcontour": [
           {
            "colorbar": {
             "outlinewidth": 0,
             "ticks": ""
            },
            "colorscale": [
             [
              0,
              "#0d0887"
             ],
             [
              0.1111111111111111,
              "#46039f"
             ],
             [
              0.2222222222222222,
              "#7201a8"
             ],
             [
              0.3333333333333333,
              "#9c179e"
             ],
             [
              0.4444444444444444,
              "#bd3786"
             ],
             [
              0.5555555555555556,
              "#d8576b"
             ],
             [
              0.6666666666666666,
              "#ed7953"
             ],
             [
              0.7777777777777778,
              "#fb9f3a"
             ],
             [
              0.8888888888888888,
              "#fdca26"
             ],
             [
              1,
              "#f0f921"
             ]
            ],
            "type": "histogram2dcontour"
           }
          ],
          "mesh3d": [
           {
            "colorbar": {
             "outlinewidth": 0,
             "ticks": ""
            },
            "type": "mesh3d"
           }
          ],
          "parcoords": [
           {
            "line": {
             "colorbar": {
              "outlinewidth": 0,
              "ticks": ""
             }
            },
            "type": "parcoords"
           }
          ],
          "pie": [
           {
            "automargin": true,
            "type": "pie"
           }
          ],
          "scatter": [
           {
            "marker": {
             "colorbar": {
              "outlinewidth": 0,
              "ticks": ""
             }
            },
            "type": "scatter"
           }
          ],
          "scatter3d": [
           {
            "line": {
             "colorbar": {
              "outlinewidth": 0,
              "ticks": ""
             }
            },
            "marker": {
             "colorbar": {
              "outlinewidth": 0,
              "ticks": ""
             }
            },
            "type": "scatter3d"
           }
          ],
          "scattercarpet": [
           {
            "marker": {
             "colorbar": {
              "outlinewidth": 0,
              "ticks": ""
             }
            },
            "type": "scattercarpet"
           }
          ],
          "scattergeo": [
           {
            "marker": {
             "colorbar": {
              "outlinewidth": 0,
              "ticks": ""
             }
            },
            "type": "scattergeo"
           }
          ],
          "scattergl": [
           {
            "marker": {
             "colorbar": {
              "outlinewidth": 0,
              "ticks": ""
             }
            },
            "type": "scattergl"
           }
          ],
          "scattermapbox": [
           {
            "marker": {
             "colorbar": {
              "outlinewidth": 0,
              "ticks": ""
             }
            },
            "type": "scattermapbox"
           }
          ],
          "scatterpolar": [
           {
            "marker": {
             "colorbar": {
              "outlinewidth": 0,
              "ticks": ""
             }
            },
            "type": "scatterpolar"
           }
          ],
          "scatterpolargl": [
           {
            "marker": {
             "colorbar": {
              "outlinewidth": 0,
              "ticks": ""
             }
            },
            "type": "scatterpolargl"
           }
          ],
          "scatterternary": [
           {
            "marker": {
             "colorbar": {
              "outlinewidth": 0,
              "ticks": ""
             }
            },
            "type": "scatterternary"
           }
          ],
          "surface": [
           {
            "colorbar": {
             "outlinewidth": 0,
             "ticks": ""
            },
            "colorscale": [
             [
              0,
              "#0d0887"
             ],
             [
              0.1111111111111111,
              "#46039f"
             ],
             [
              0.2222222222222222,
              "#7201a8"
             ],
             [
              0.3333333333333333,
              "#9c179e"
             ],
             [
              0.4444444444444444,
              "#bd3786"
             ],
             [
              0.5555555555555556,
              "#d8576b"
             ],
             [
              0.6666666666666666,
              "#ed7953"
             ],
             [
              0.7777777777777778,
              "#fb9f3a"
             ],
             [
              0.8888888888888888,
              "#fdca26"
             ],
             [
              1,
              "#f0f921"
             ]
            ],
            "type": "surface"
           }
          ],
          "table": [
           {
            "cells": {
             "fill": {
              "color": "#EBF0F8"
             },
             "line": {
              "color": "white"
             }
            },
            "header": {
             "fill": {
              "color": "#C8D4E3"
             },
             "line": {
              "color": "white"
             }
            },
            "type": "table"
           }
          ]
         },
         "layout": {
          "annotationdefaults": {
           "arrowcolor": "#2a3f5f",
           "arrowhead": 0,
           "arrowwidth": 1
          },
          "autotypenumbers": "strict",
          "coloraxis": {
           "colorbar": {
            "outlinewidth": 0,
            "ticks": ""
           }
          },
          "colorscale": {
           "diverging": [
            [
             0,
             "#8e0152"
            ],
            [
             0.1,
             "#c51b7d"
            ],
            [
             0.2,
             "#de77ae"
            ],
            [
             0.3,
             "#f1b6da"
            ],
            [
             0.4,
             "#fde0ef"
            ],
            [
             0.5,
             "#f7f7f7"
            ],
            [
             0.6,
             "#e6f5d0"
            ],
            [
             0.7,
             "#b8e186"
            ],
            [
             0.8,
             "#7fbc41"
            ],
            [
             0.9,
             "#4d9221"
            ],
            [
             1,
             "#276419"
            ]
           ],
           "sequential": [
            [
             0,
             "#0d0887"
            ],
            [
             0.1111111111111111,
             "#46039f"
            ],
            [
             0.2222222222222222,
             "#7201a8"
            ],
            [
             0.3333333333333333,
             "#9c179e"
            ],
            [
             0.4444444444444444,
             "#bd3786"
            ],
            [
             0.5555555555555556,
             "#d8576b"
            ],
            [
             0.6666666666666666,
             "#ed7953"
            ],
            [
             0.7777777777777778,
             "#fb9f3a"
            ],
            [
             0.8888888888888888,
             "#fdca26"
            ],
            [
             1,
             "#f0f921"
            ]
           ],
           "sequentialminus": [
            [
             0,
             "#0d0887"
            ],
            [
             0.1111111111111111,
             "#46039f"
            ],
            [
             0.2222222222222222,
             "#7201a8"
            ],
            [
             0.3333333333333333,
             "#9c179e"
            ],
            [
             0.4444444444444444,
             "#bd3786"
            ],
            [
             0.5555555555555556,
             "#d8576b"
            ],
            [
             0.6666666666666666,
             "#ed7953"
            ],
            [
             0.7777777777777778,
             "#fb9f3a"
            ],
            [
             0.8888888888888888,
             "#fdca26"
            ],
            [
             1,
             "#f0f921"
            ]
           ]
          },
          "colorway": [
           "#636efa",
           "#EF553B",
           "#00cc96",
           "#ab63fa",
           "#FFA15A",
           "#19d3f3",
           "#FF6692",
           "#B6E880",
           "#FF97FF",
           "#FECB52"
          ],
          "font": {
           "color": "#2a3f5f"
          },
          "geo": {
           "bgcolor": "white",
           "lakecolor": "white",
           "landcolor": "#E5ECF6",
           "showlakes": true,
           "showland": true,
           "subunitcolor": "white"
          },
          "hoverlabel": {
           "align": "left"
          },
          "hovermode": "closest",
          "mapbox": {
           "style": "light"
          },
          "paper_bgcolor": "white",
          "plot_bgcolor": "#E5ECF6",
          "polar": {
           "angularaxis": {
            "gridcolor": "white",
            "linecolor": "white",
            "ticks": ""
           },
           "bgcolor": "#E5ECF6",
           "radialaxis": {
            "gridcolor": "white",
            "linecolor": "white",
            "ticks": ""
           }
          },
          "scene": {
           "xaxis": {
            "backgroundcolor": "#E5ECF6",
            "gridcolor": "white",
            "gridwidth": 2,
            "linecolor": "white",
            "showbackground": true,
            "ticks": "",
            "zerolinecolor": "white"
           },
           "yaxis": {
            "backgroundcolor": "#E5ECF6",
            "gridcolor": "white",
            "gridwidth": 2,
            "linecolor": "white",
            "showbackground": true,
            "ticks": "",
            "zerolinecolor": "white"
           },
           "zaxis": {
            "backgroundcolor": "#E5ECF6",
            "gridcolor": "white",
            "gridwidth": 2,
            "linecolor": "white",
            "showbackground": true,
            "ticks": "",
            "zerolinecolor": "white"
           }
          },
          "shapedefaults": {
           "line": {
            "color": "#2a3f5f"
           }
          },
          "ternary": {
           "aaxis": {
            "gridcolor": "white",
            "linecolor": "white",
            "ticks": ""
           },
           "baxis": {
            "gridcolor": "white",
            "linecolor": "white",
            "ticks": ""
           },
           "bgcolor": "#E5ECF6",
           "caxis": {
            "gridcolor": "white",
            "linecolor": "white",
            "ticks": ""
           }
          },
          "title": {
           "x": 0.05
          },
          "xaxis": {
           "automargin": true,
           "gridcolor": "white",
           "linecolor": "white",
           "ticks": "",
           "title": {
            "standoff": 15
           },
           "zerolinecolor": "white",
           "zerolinewidth": 2
          },
          "yaxis": {
           "automargin": true,
           "gridcolor": "white",
           "linecolor": "white",
           "ticks": "",
           "title": {
            "standoff": 15
           },
           "zerolinecolor": "white",
           "zerolinewidth": 2
          }
         }
        },
        "title": {
         "font": {
          "size": 22
         },
         "text": "Number of Twitter Users Who Commented on Analyzed Events Per State"
        },
        "width": 1200
       }
      },
      "text/html": [
       "<div>                            <div id=\"60415332-69b1-4375-8550-325d6abee99d\" class=\"plotly-graph-div\" style=\"height:700px; width:1200px;\"></div>            <script type=\"text/javascript\">                require([\"plotly\"], function(Plotly) {                    window.PLOTLYENV=window.PLOTLYENV || {};                                    if (document.getElementById(\"60415332-69b1-4375-8550-325d6abee99d\")) {                    Plotly.newPlot(                        \"60415332-69b1-4375-8550-325d6abee99d\",                        [{\"colorbar\":{\"title\":{\"text\":\"Users/1Mil Pop\"}},\"colorscale\":[[0.0,\"rgb(255,255,217)\"],[0.125,\"rgb(237,248,177)\"],[0.25,\"rgb(199,233,180)\"],[0.375,\"rgb(127,205,187)\"],[0.5,\"rgb(65,182,196)\"],[0.625,\"rgb(29,145,192)\"],[0.75,\"rgb(34,94,168)\"],[0.875,\"rgb(37,52,148)\"],[1.0,\"rgb(8,29,88)\"]],\"locationmode\":\"USA-states\",\"locations\":[\"AK\",\"AL\",\"AR\",\"AZ\",\"CA\",\"CO\",\"CT\",\"DE\",\"FL\",\"GA\",\"HI\",\"IA\",\"ID\",\"IL\",\"IN\",\"KS\",\"KY\",\"LA\",\"MA\",\"MD\",\"ME\",\"MI\",\"MN\",\"MO\",\"MS\",\"MT\",\"NC\",\"ND\",\"NE\",\"NH\",\"NJ\",\"NM\",\"NV\",\"NY\",\"OH\",\"OK\",\"OR\",\"PA\",\"RI\",\"SC\",\"SD\",\"TN\",\"TX\",\"UT\",\"VA\",\"VT\",\"WA\",\"WI\",\"WV\",\"WY\"],\"type\":\"choropleth\",\"z\":[8.201819436945096,6.730319170090462,4.3077381889274555,7.693663594834089,9.996906526873975,4.514879654146326,12.341222459790755,9.242485858996636,9.358527856077203,9.418481301912903,2.8251141346110384,7.28985410783279,7.834074306194794,8.365017151047192,5.3474196249409,6.865034115787038,8.28171623124611,9.464820338350119,10.792138660850998,8.104960897698854,8.927163274840575,7.810265031330678,7.801927501652589,5.050975750754224,3.360046825612562,8.420832015629063,11.346209660410805,3.9366875661035454,6.20344829012287,5.148152806000687,8.10610896636978,5.246016723347493,13.960331879294426,16.398026047776035,8.89717771256983,5.559808247267923,10.669228546018871,9.529769163213624,10.383618048993686,8.934269800186998,4.521516200027355,9.219727172175038,8.346013007847564,5.614546416390982,8.552496924908725,14.423331180517604,10.111763881646137,6.011231728861159,8.369849125099671,1.7278349019194519]}],                        {\"geo\":{\"scope\":\"usa\"},\"height\":700,\"template\":{\"data\":{\"bar\":[{\"error_x\":{\"color\":\"#2a3f5f\"},\"error_y\":{\"color\":\"#2a3f5f\"},\"marker\":{\"line\":{\"color\":\"#E5ECF6\",\"width\":0.5},\"pattern\":{\"fillmode\":\"overlay\",\"size\":10,\"solidity\":0.2}},\"type\":\"bar\"}],\"barpolar\":[{\"marker\":{\"line\":{\"color\":\"#E5ECF6\",\"width\":0.5},\"pattern\":{\"fillmode\":\"overlay\",\"size\":10,\"solidity\":0.2}},\"type\":\"barpolar\"}],\"carpet\":[{\"aaxis\":{\"endlinecolor\":\"#2a3f5f\",\"gridcolor\":\"white\",\"linecolor\":\"white\",\"minorgridcolor\":\"white\",\"startlinecolor\":\"#2a3f5f\"},\"baxis\":{\"endlinecolor\":\"#2a3f5f\",\"gridcolor\":\"white\",\"linecolor\":\"white\",\"minorgridcolor\":\"white\",\"startlinecolor\":\"#2a3f5f\"},\"type\":\"carpet\"}],\"choropleth\":[{\"colorbar\":{\"outlinewidth\":0,\"ticks\":\"\"},\"type\":\"choropleth\"}],\"contour\":[{\"colorbar\":{\"outlinewidth\":0,\"ticks\":\"\"},\"colorscale\":[[0.0,\"#0d0887\"],[0.1111111111111111,\"#46039f\"],[0.2222222222222222,\"#7201a8\"],[0.3333333333333333,\"#9c179e\"],[0.4444444444444444,\"#bd3786\"],[0.5555555555555556,\"#d8576b\"],[0.6666666666666666,\"#ed7953\"],[0.7777777777777778,\"#fb9f3a\"],[0.8888888888888888,\"#fdca26\"],[1.0,\"#f0f921\"]],\"type\":\"contour\"}],\"contourcarpet\":[{\"colorbar\":{\"outlinewidth\":0,\"ticks\":\"\"},\"type\":\"contourcarpet\"}],\"heatmap\":[{\"colorbar\":{\"outlinewidth\":0,\"ticks\":\"\"},\"colorscale\":[[0.0,\"#0d0887\"],[0.1111111111111111,\"#46039f\"],[0.2222222222222222,\"#7201a8\"],[0.3333333333333333,\"#9c179e\"],[0.4444444444444444,\"#bd3786\"],[0.5555555555555556,\"#d8576b\"],[0.6666666666666666,\"#ed7953\"],[0.7777777777777778,\"#fb9f3a\"],[0.8888888888888888,\"#fdca26\"],[1.0,\"#f0f921\"]],\"type\":\"heatmap\"}],\"heatmapgl\":[{\"colorbar\":{\"outlinewidth\":0,\"ticks\":\"\"},\"colorscale\":[[0.0,\"#0d0887\"],[0.1111111111111111,\"#46039f\"],[0.2222222222222222,\"#7201a8\"],[0.3333333333333333,\"#9c179e\"],[0.4444444444444444,\"#bd3786\"],[0.5555555555555556,\"#d8576b\"],[0.6666666666666666,\"#ed7953\"],[0.7777777777777778,\"#fb9f3a\"],[0.8888888888888888,\"#fdca26\"],[1.0,\"#f0f921\"]],\"type\":\"heatmapgl\"}],\"histogram\":[{\"marker\":{\"pattern\":{\"fillmode\":\"overlay\",\"size\":10,\"solidity\":0.2}},\"type\":\"histogram\"}],\"histogram2d\":[{\"colorbar\":{\"outlinewidth\":0,\"ticks\":\"\"},\"colorscale\":[[0.0,\"#0d0887\"],[0.1111111111111111,\"#46039f\"],[0.2222222222222222,\"#7201a8\"],[0.3333333333333333,\"#9c179e\"],[0.4444444444444444,\"#bd3786\"],[0.5555555555555556,\"#d8576b\"],[0.6666666666666666,\"#ed7953\"],[0.7777777777777778,\"#fb9f3a\"],[0.8888888888888888,\"#fdca26\"],[1.0,\"#f0f921\"]],\"type\":\"histogram2d\"}],\"histogram2dcontour\":[{\"colorbar\":{\"outlinewidth\":0,\"ticks\":\"\"},\"colorscale\":[[0.0,\"#0d0887\"],[0.1111111111111111,\"#46039f\"],[0.2222222222222222,\"#7201a8\"],[0.3333333333333333,\"#9c179e\"],[0.4444444444444444,\"#bd3786\"],[0.5555555555555556,\"#d8576b\"],[0.6666666666666666,\"#ed7953\"],[0.7777777777777778,\"#fb9f3a\"],[0.8888888888888888,\"#fdca26\"],[1.0,\"#f0f921\"]],\"type\":\"histogram2dcontour\"}],\"mesh3d\":[{\"colorbar\":{\"outlinewidth\":0,\"ticks\":\"\"},\"type\":\"mesh3d\"}],\"parcoords\":[{\"line\":{\"colorbar\":{\"outlinewidth\":0,\"ticks\":\"\"}},\"type\":\"parcoords\"}],\"pie\":[{\"automargin\":true,\"type\":\"pie\"}],\"scatter\":[{\"marker\":{\"colorbar\":{\"outlinewidth\":0,\"ticks\":\"\"}},\"type\":\"scatter\"}],\"scatter3d\":[{\"line\":{\"colorbar\":{\"outlinewidth\":0,\"ticks\":\"\"}},\"marker\":{\"colorbar\":{\"outlinewidth\":0,\"ticks\":\"\"}},\"type\":\"scatter3d\"}],\"scattercarpet\":[{\"marker\":{\"colorbar\":{\"outlinewidth\":0,\"ticks\":\"\"}},\"type\":\"scattercarpet\"}],\"scattergeo\":[{\"marker\":{\"colorbar\":{\"outlinewidth\":0,\"ticks\":\"\"}},\"type\":\"scattergeo\"}],\"scattergl\":[{\"marker\":{\"colorbar\":{\"outlinewidth\":0,\"ticks\":\"\"}},\"type\":\"scattergl\"}],\"scattermapbox\":[{\"marker\":{\"colorbar\":{\"outlinewidth\":0,\"ticks\":\"\"}},\"type\":\"scattermapbox\"}],\"scatterpolar\":[{\"marker\":{\"colorbar\":{\"outlinewidth\":0,\"ticks\":\"\"}},\"type\":\"scatterpolar\"}],\"scatterpolargl\":[{\"marker\":{\"colorbar\":{\"outlinewidth\":0,\"ticks\":\"\"}},\"type\":\"scatterpolargl\"}],\"scatterternary\":[{\"marker\":{\"colorbar\":{\"outlinewidth\":0,\"ticks\":\"\"}},\"type\":\"scatterternary\"}],\"surface\":[{\"colorbar\":{\"outlinewidth\":0,\"ticks\":\"\"},\"colorscale\":[[0.0,\"#0d0887\"],[0.1111111111111111,\"#46039f\"],[0.2222222222222222,\"#7201a8\"],[0.3333333333333333,\"#9c179e\"],[0.4444444444444444,\"#bd3786\"],[0.5555555555555556,\"#d8576b\"],[0.6666666666666666,\"#ed7953\"],[0.7777777777777778,\"#fb9f3a\"],[0.8888888888888888,\"#fdca26\"],[1.0,\"#f0f921\"]],\"type\":\"surface\"}],\"table\":[{\"cells\":{\"fill\":{\"color\":\"#EBF0F8\"},\"line\":{\"color\":\"white\"}},\"header\":{\"fill\":{\"color\":\"#C8D4E3\"},\"line\":{\"color\":\"white\"}},\"type\":\"table\"}]},\"layout\":{\"annotationdefaults\":{\"arrowcolor\":\"#2a3f5f\",\"arrowhead\":0,\"arrowwidth\":1},\"autotypenumbers\":\"strict\",\"coloraxis\":{\"colorbar\":{\"outlinewidth\":0,\"ticks\":\"\"}},\"colorscale\":{\"diverging\":[[0,\"#8e0152\"],[0.1,\"#c51b7d\"],[0.2,\"#de77ae\"],[0.3,\"#f1b6da\"],[0.4,\"#fde0ef\"],[0.5,\"#f7f7f7\"],[0.6,\"#e6f5d0\"],[0.7,\"#b8e186\"],[0.8,\"#7fbc41\"],[0.9,\"#4d9221\"],[1,\"#276419\"]],\"sequential\":[[0.0,\"#0d0887\"],[0.1111111111111111,\"#46039f\"],[0.2222222222222222,\"#7201a8\"],[0.3333333333333333,\"#9c179e\"],[0.4444444444444444,\"#bd3786\"],[0.5555555555555556,\"#d8576b\"],[0.6666666666666666,\"#ed7953\"],[0.7777777777777778,\"#fb9f3a\"],[0.8888888888888888,\"#fdca26\"],[1.0,\"#f0f921\"]],\"sequentialminus\":[[0.0,\"#0d0887\"],[0.1111111111111111,\"#46039f\"],[0.2222222222222222,\"#7201a8\"],[0.3333333333333333,\"#9c179e\"],[0.4444444444444444,\"#bd3786\"],[0.5555555555555556,\"#d8576b\"],[0.6666666666666666,\"#ed7953\"],[0.7777777777777778,\"#fb9f3a\"],[0.8888888888888888,\"#fdca26\"],[1.0,\"#f0f921\"]]},\"colorway\":[\"#636efa\",\"#EF553B\",\"#00cc96\",\"#ab63fa\",\"#FFA15A\",\"#19d3f3\",\"#FF6692\",\"#B6E880\",\"#FF97FF\",\"#FECB52\"],\"font\":{\"color\":\"#2a3f5f\"},\"geo\":{\"bgcolor\":\"white\",\"lakecolor\":\"white\",\"landcolor\":\"#E5ECF6\",\"showlakes\":true,\"showland\":true,\"subunitcolor\":\"white\"},\"hoverlabel\":{\"align\":\"left\"},\"hovermode\":\"closest\",\"mapbox\":{\"style\":\"light\"},\"paper_bgcolor\":\"white\",\"plot_bgcolor\":\"#E5ECF6\",\"polar\":{\"angularaxis\":{\"gridcolor\":\"white\",\"linecolor\":\"white\",\"ticks\":\"\"},\"bgcolor\":\"#E5ECF6\",\"radialaxis\":{\"gridcolor\":\"white\",\"linecolor\":\"white\",\"ticks\":\"\"}},\"scene\":{\"xaxis\":{\"backgroundcolor\":\"#E5ECF6\",\"gridcolor\":\"white\",\"gridwidth\":2,\"linecolor\":\"white\",\"showbackground\":true,\"ticks\":\"\",\"zerolinecolor\":\"white\"},\"yaxis\":{\"backgroundcolor\":\"#E5ECF6\",\"gridcolor\":\"white\",\"gridwidth\":2,\"linecolor\":\"white\",\"showbackground\":true,\"ticks\":\"\",\"zerolinecolor\":\"white\"},\"zaxis\":{\"backgroundcolor\":\"#E5ECF6\",\"gridcolor\":\"white\",\"gridwidth\":2,\"linecolor\":\"white\",\"showbackground\":true,\"ticks\":\"\",\"zerolinecolor\":\"white\"}},\"shapedefaults\":{\"line\":{\"color\":\"#2a3f5f\"}},\"ternary\":{\"aaxis\":{\"gridcolor\":\"white\",\"linecolor\":\"white\",\"ticks\":\"\"},\"baxis\":{\"gridcolor\":\"white\",\"linecolor\":\"white\",\"ticks\":\"\"},\"bgcolor\":\"#E5ECF6\",\"caxis\":{\"gridcolor\":\"white\",\"linecolor\":\"white\",\"ticks\":\"\"}},\"title\":{\"x\":0.05},\"xaxis\":{\"automargin\":true,\"gridcolor\":\"white\",\"linecolor\":\"white\",\"ticks\":\"\",\"title\":{\"standoff\":15},\"zerolinecolor\":\"white\",\"zerolinewidth\":2},\"yaxis\":{\"automargin\":true,\"gridcolor\":\"white\",\"linecolor\":\"white\",\"ticks\":\"\",\"title\":{\"standoff\":15},\"zerolinecolor\":\"white\",\"zerolinewidth\":2}}},\"title\":{\"font\":{\"size\":22},\"text\":\"Number of Twitter Users Who Commented on Analyzed Events Per State\"},\"width\":1200},                        {\"responsive\": true}                    ).then(function(){\n",
       "                            \n",
       "var gd = document.getElementById('60415332-69b1-4375-8550-325d6abee99d');\n",
       "var x = new MutationObserver(function (mutations, observer) {{\n",
       "        var display = window.getComputedStyle(gd).display;\n",
       "        if (!display || display === 'none') {{\n",
       "            console.log([gd, 'removed!']);\n",
       "            Plotly.purge(gd);\n",
       "            observer.disconnect();\n",
       "        }}\n",
       "}});\n",
       "\n",
       "// Listen for the removal of the full notebook cells\n",
       "var notebookContainer = gd.closest('#notebook-container');\n",
       "if (notebookContainer) {{\n",
       "    x.observe(notebookContainer, {childList: true});\n",
       "}}\n",
       "\n",
       "// Listen for the clearing of the current output cell\n",
       "var outputEl = gd.closest('.output');\n",
       "if (outputEl) {{\n",
       "    x.observe(outputEl, {childList: true});\n",
       "}}\n",
       "\n",
       "                        })                };                });            </script>        </div>"
      ],
      "image/png": "[encoded data removed]"
     },
     "metadata": {}
    }
   ],
   "metadata": {}
  },
  {
   "cell_type": "code",
   "execution_count": 14,
   "source": [
    "pops['ratio']=pops['users']/pops['Pop']*100000"
   ],
   "outputs": [],
   "metadata": {}
  },
  {
   "cell_type": "code",
   "execution_count": null,
   "source": [],
   "outputs": [],
   "metadata": {}
  },
  {
   "cell_type": "code",
   "execution_count": 15,
   "source": [
    "fig.write_image(\"choropleth.png\")"
   ],
   "outputs": [],
   "metadata": {}
  },
  {
   "cell_type": "code",
   "execution_count": null,
   "source": [],
   "outputs": [],
   "metadata": {}
  },
  {
   "cell_type": "code",
   "execution_count": null,
   "source": [],
   "outputs": [],
   "metadata": {}
  }
 ],
 "metadata": {
  "kernelspec": {
   "display_name": "Python 3",
   "language": "python",
   "name": "python3"
  },
  "language_info": {
   "codemirror_mode": {
    "name": "ipython",
    "version": 3
   },
   "file_extension": ".py",
   "mimetype": "text/x-python",
   "name": "python",
   "nbconvert_exporter": "python",
   "pygments_lexer": "ipython3",
   "version": "3.9.6"
  }
 },
 "nbformat": 4,
 "nbformat_minor": 5
}